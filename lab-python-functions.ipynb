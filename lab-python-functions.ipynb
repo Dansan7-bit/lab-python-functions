{
 "cells": [
  {
   "cell_type": "markdown",
   "id": "25d7736c-ba17-4aff-b6bb-66eba20fbf4e",
   "metadata": {},
   "source": [
    "# Lab | Functions"
   ]
  },
  {
   "cell_type": "markdown",
   "id": "0c581062-8967-4d93-b06e-62833222f930",
   "metadata": {
    "tags": []
   },
   "source": [
    "## Exercise: Managing Customer Orders with Functions\n",
    "\n",
    "In the previous exercise, you improved the code for managing customer orders by using loops and flow control. Now, let's take it a step further and refactor the code by introducing functions.\n",
    "\n",
    "Follow the steps below to complete the exercise:\n",
    "\n",
    "1. Define a function named `initialize_inventory` that takes `products` as a parameter. Inside the function, implement the code for initializing the inventory dictionary using a loop and user input.\n",
    "\n",
    "2. Define a function named `get_customer_orders` that takes no parameters. Inside the function, implement the code for prompting the user to enter the product names using a loop. The function should return the `customer_orders` set.\n",
    "\n",
    "3. Define a function named `update_inventory` that takes `customer_orders` and `inventory` as parameters. Inside the function, implement the code for updating the inventory dictionary based on the customer orders.\n",
    "\n",
    "4. Define a function named `calculate_order_statistics` that takes `customer_orders` and `products` as parameters. Inside the function, implement the code for calculating the order statistics (total products ordered, and percentage of unique products ordered). The function should return these values.\n",
    "\n",
    "5. Define a function named `print_order_statistics` that takes `order_statistics` as a parameter. Inside the function, implement the code for printing the order statistics.\n",
    "\n",
    "6. Define a function named `print_updated_inventory` that takes `inventory` as a parameter. Inside the function, implement the code for printing the updated inventory.\n",
    "\n",
    "7. Call the functions in the appropriate sequence to execute the program and manage customer orders.\n",
    "\n",
    "Hints for functions:\n",
    "\n",
    "- Consider the input parameters required for each function and their return values.\n",
    "- Utilize function parameters and return values to transfer data between functions.\n",
    "- Test your functions individually to ensure they work correctly.\n",
    "\n",
    "\n"
   ]
  },
  {
   "cell_type": "markdown",
   "id": "bcfc0c85-1d9d-46d1-955b-4079d0d1f799",
   "metadata": {},
   "source": [
    "# 1) Define a function named initialize_inventory that takes products as a parameter. Inside the function, implement the code for initializing the inventory dictionary using a loop and user input."
   ]
  },
  {
   "cell_type": "code",
   "execution_count": 17,
   "id": "285373a0-54d2-49cd-b9b8-9cb55f415493",
   "metadata": {},
   "outputs": [
    {
     "name": "stdin",
     "output_type": "stream",
     "text": [
      "enter the quantity of t-shirt 1\n",
      "enter the quantity of mug 2\n",
      "enter the quantity of hat 3\n",
      "enter the quantity of book 4\n",
      "enter the quantity of keychain 5\n"
     ]
    },
    {
     "data": {
      "text/plain": [
       "{'t-shirt': 1, 'mug': 2, 'hat': 3, 'book': 4, 'keychain': 5}"
      ]
     },
     "execution_count": 17,
     "metadata": {},
     "output_type": "execute_result"
    }
   ],
   "source": [
    "products = [\"t-shirt\", \"mug\", \"hat\", \"book\", \"keychain\"]\n",
    "inventory = {}\n",
    "def initialize_inventory(products):\n",
    "    for product in products:\n",
    "        inventory[product] = int(input(f\"enter the quantity of {product}\"))\n",
    "    return inventory\n",
    "    \n",
    "initialize_inventory(products)\n"
   ]
  },
  {
   "cell_type": "markdown",
   "id": "138f0b69-30c1-431c-a7c0-55a21218389c",
   "metadata": {},
   "source": [
    "# 2) Define a function named get_customer_orders that takes no parameters. Inside the function, implement the code for prompting the user to enter the product names using a loop. The function should return the customer_orders set."
   ]
  },
  {
   "cell_type": "code",
   "execution_count": 55,
   "id": "8b1cfa2b-da87-4d69-a635-3187371ac266",
   "metadata": {},
   "outputs": [
    {
     "name": "stdin",
     "output_type": "stream",
     "text": [
      "Please enter the product you want to order mug\n",
      "Would you like to add another product(yes/no):  yes\n",
      "Please enter the product you want to order book\n",
      "Would you like to add another product(yes/no):  no\n"
     ]
    },
    {
     "data": {
      "text/plain": [
       "{'book', 'mug'}"
      ]
     },
     "execution_count": 55,
     "metadata": {},
     "output_type": "execute_result"
    }
   ],
   "source": [
    "customer_orders = set()\n",
    "def get_customer_orders():\n",
    "    product_order = input(\"Please enter the product you want to order\")\n",
    "    customer_orders.add(product_order)\n",
    "    while True:\n",
    "        answer = input(\"Would you like to add another product(yes/no): \")\n",
    "        if answer == \"no\":\n",
    "            break\n",
    "            print(\"Thank you for your order\")\n",
    "        if answer == \"yes\":\n",
    "            product_order = input(\"Please enter the product you want to order\")\n",
    "            customer_orders.add(product_order)\n",
    "        else:\n",
    "            print(\"Please enter only 'yes' or 'no' \")\n",
    "\n",
    "    return customer_orders\n",
    "\n",
    "get_customer_orders()\n",
    "    "
   ]
  },
  {
   "cell_type": "markdown",
   "id": "5e293c14-4641-4186-86f2-451cf7cf36ee",
   "metadata": {},
   "source": [
    "# 3) Define a function named update_inventory that takes customer_orders and inventory as parameters. Inside the function, implement the code for updating the inventory dictionary based on the customer orders."
   ]
  },
  {
   "cell_type": "code",
   "execution_count": 57,
   "id": "6e666ca1-5cf3-4fd4-a796-d48239bf2f84",
   "metadata": {},
   "outputs": [
    {
     "data": {
      "text/plain": [
       "{'t-shirt': 1, 'mug': 1, 'hat': 3, 'book': 3, 'keychain': 5}"
      ]
     },
     "execution_count": 57,
     "metadata": {},
     "output_type": "execute_result"
    }
   ],
   "source": [
    "def update_inventory(customer_orders, inventory):\n",
    "    for product in customer_orders:\n",
    "        if product in inventory.keys():\n",
    "            inventory[product] -= 1\n",
    "    return inventory\n",
    "\n",
    "update_inventory(customer_orders, inventory)"
   ]
  },
  {
   "cell_type": "markdown",
   "id": "638d57a2-222e-42da-8f61-3b2df9ad774d",
   "metadata": {},
   "source": [
    "# 4) Define a function named calculate_order_statistics that takes customer_orders and products as parameters. Inside the function, implement the code for calculating the order statistics (total products ordered, and percentage of unique products ordered). The function should return these values."
   ]
  },
  {
   "cell_type": "code",
   "execution_count": null,
   "id": "3924a893-b0ad-485a-b1e2-4329ac46fdbc",
   "metadata": {},
   "outputs": [],
   "source": []
  },
  {
   "cell_type": "markdown",
   "id": "408e115c-e1dd-4b1d-b880-549979d1c743",
   "metadata": {},
   "source": [
    "# 5) Define a function named print_order_statistics that takes order_statistics as a parameter. Inside the function, implement the code for printing the order statistics."
   ]
  },
  {
   "cell_type": "code",
   "execution_count": null,
   "id": "58f051b2-85a8-4f3f-9c7a-23910146db0e",
   "metadata": {},
   "outputs": [],
   "source": []
  },
  {
   "cell_type": "markdown",
   "id": "775eb063-cf39-4379-b614-8b67b96ba2a2",
   "metadata": {},
   "source": [
    "# 6) Define a function named print_updated_inventory that takes inventory as a parameter. Inside the function, implement the code for printing the updated inventory."
   ]
  },
  {
   "cell_type": "code",
   "execution_count": null,
   "id": "8e8af929-fef7-4c9e-b9fe-993ccbd217f7",
   "metadata": {},
   "outputs": [],
   "source": []
  },
  {
   "cell_type": "markdown",
   "id": "520ed6e2-9468-4e9b-98cb-5d1a7465f9b7",
   "metadata": {},
   "source": [
    "# 7) Call the functions in the appropriate sequence to execute the program and manage customer orders."
   ]
  },
  {
   "cell_type": "code",
   "execution_count": null,
   "id": "afc6c253-d370-4521-b752-15e12619c032",
   "metadata": {},
   "outputs": [],
   "source": []
  }
 ],
 "metadata": {
  "kernelspec": {
   "display_name": "Python 3 (ipykernel)",
   "language": "python",
   "name": "python3"
  },
  "language_info": {
   "codemirror_mode": {
    "name": "ipython",
    "version": 3
   },
   "file_extension": ".py",
   "mimetype": "text/x-python",
   "name": "python",
   "nbconvert_exporter": "python",
   "pygments_lexer": "ipython3",
   "version": "3.11.7"
  }
 },
 "nbformat": 4,
 "nbformat_minor": 5
}
